{
 "cells": [
  {
   "cell_type": "code",
   "execution_count": null,
   "metadata": {},
   "outputs": [],
   "source": [
    "import pandas               as pd\n",
    "import plotly.express       as px\n",
    "import plotly.graph_objects as go\n",
    "import spacy"
   ]
  },
  {
   "cell_type": "code",
   "execution_count": null,
   "metadata": {},
   "outputs": [],
   "source": [
    "file_path = \"data\\lingqs.csv\"\n",
    "clean_data_file_path = \"data\\clean.csv\"\n",
    "nlp = spacy.load(\"de_core_news_lg\")\n",
    "\n",
    "df = pd.read_csv(file_path, header=0)\n",
    "\n",
    "df.head()"
   ]
  },
  {
   "cell_type": "markdown",
   "metadata": {},
   "source": [
    "## Data Cleaning\n",
    "Deleting useless column (such as 68 tags and meaninglanguageN)."
   ]
  },
  {
   "cell_type": "code",
   "execution_count": null,
   "metadata": {},
   "outputs": [],
   "source": [
    "for i in range(1, 69) :\n",
    "    col = \"tag\"+ format(i)\n",
    "    df.drop([col], axis=1, inplace=True)"
   ]
  },
  {
   "cell_type": "markdown",
   "metadata": {},
   "source": [
    "Replacing all languages except [\"en\", \"uk\", \"ru\"]"
   ]
  },
  {
   "cell_type": "code",
   "execution_count": null,
   "metadata": {},
   "outputs": [],
   "source": [
    "df[\"meaninglanguage1\"] = df[\"meaninglanguage1\"].fillna(\"en\")\n",
    "all_langs = df[\"meaninglanguage1\"].unique()\n",
    "amb_langs = []\n",
    "\n",
    "for l in all_langs :\n",
    "    if not(l == \"en\" or l == \"uk\" or l == \"ru\") : amb_langs.append(l)\n",
    "\n",
    "df.loc[df[\"meaninglanguage1\"].isin(amb_langs)]\n",
    "\n",
    "for l in amb_langs :\n",
    "    df[\"meaninglanguage1\"] = df[\"meaninglanguage1\"].replace(l, \"en\")\n",
    "\n",
    "df[\"meaninglanguage1\"].unique()"
   ]
  },
  {
   "cell_type": "markdown",
   "metadata": {},
   "source": [
    "Dropping all rows, where `\"phrase\"` or `\"meaning1\"` is `NaN`"
   ]
  },
  {
   "cell_type": "code",
   "execution_count": null,
   "metadata": {},
   "outputs": [],
   "source": [
    "df = df.dropna(subset=[\"phrase\", \"meaning1\"], axis=0)\n",
    "df = df.reset_index(drop=True)\n",
    "\n",
    "df.info()"
   ]
  },
  {
   "cell_type": "code",
   "execution_count": null,
   "metadata": {},
   "outputs": [],
   "source": [
    "df.to_csv(path_or_buf=clean_data_file_path, index=False)"
   ]
  },
  {
   "cell_type": "markdown",
   "metadata": {},
   "source": [
    "analizing words i have here and finding lemmas, so that \"geh\", \"geht\" and \"gehen\" is the same one"
   ]
  },
  {
   "cell_type": "code",
   "execution_count": null,
   "metadata": {},
   "outputs": [],
   "source": [
    "# Using DataFrame.insert() to add a new column\n",
    "new_col = []\n",
    "\n",
    "for i in df.index : new_col.append(\"\")\n",
    "\n",
    "df.insert(1, \"lemma\", new_col, True)"
   ]
  },
  {
   "cell_type": "code",
   "execution_count": null,
   "metadata": {},
   "outputs": [],
   "source": [
    "for i in df.index :\n",
    "    doc = nlp(df.at[i, \"term\"])\n",
    "    df.at[i, \"lemma\"] = doc[0].lemma_"
   ]
  },
  {
   "cell_type": "code",
   "execution_count": null,
   "metadata": {},
   "outputs": [],
   "source": [
    "df.head()"
   ]
  },
  {
   "cell_type": "code",
   "execution_count": null,
   "metadata": {},
   "outputs": [],
   "source": [
    "df[\"lemma\"].unique().__len__()"
   ]
  },
  {
   "cell_type": "code",
   "execution_count": null,
   "metadata": {},
   "outputs": [],
   "source": [
    "# transforming data for better understanding\n",
    "df1 = df[[\"term\", \"lemma\"]].groupby(\"lemma\").count()\n",
    "df1"
   ]
  },
  {
   "cell_type": "code",
   "execution_count": null,
   "metadata": {},
   "outputs": [],
   "source": [
    "px.histogram(df1, x=\"term\")"
   ]
  },
  {
   "cell_type": "markdown",
   "metadata": {},
   "source": [
    "Let's try to analyse in phrases"
   ]
  },
  {
   "cell_type": "code",
   "execution_count": null,
   "metadata": {},
   "outputs": [],
   "source": [
    "# data = {\"term\":[]}\n",
    "lemmas = []\n",
    "\n",
    "# doc = nlp(df.at[0, \"phrase\"])\n",
    "\n",
    "for i in df.index :\n",
    "    doc = nlp(df.at[i, \"phrase\"])\n",
    "    for token in doc:\n",
    "        lemmas.append(token.lemma_)"
   ]
  },
  {
   "cell_type": "code",
   "execution_count": null,
   "metadata": {},
   "outputs": [],
   "source": [
    "df2 = pd.DataFrame(lemmas, columns=[\"lemma\"])\n",
    "df2.info()"
   ]
  },
  {
   "cell_type": "code",
   "execution_count": null,
   "metadata": {},
   "outputs": [],
   "source": [
    "# transforming data for better understanding\n",
    "df2[\"lemma_freq\"] = df2.groupby(\"lemma\")[\"lemma\"].transform(\"count\")\n",
    "df2.head()"
   ]
  },
  {
   "cell_type": "code",
   "execution_count": null,
   "metadata": {},
   "outputs": [],
   "source": [
    "pd.qcut(df2[\"lemma_freq\"], q=10)"
   ]
  },
  {
   "cell_type": "code",
   "execution_count": null,
   "metadata": {},
   "outputs": [],
   "source": [
    "px.histogram(df2, x=\"lemma_freq\")"
   ]
  },
  {
   "cell_type": "code",
   "execution_count": null,
   "metadata": {},
   "outputs": [],
   "source": []
  }
 ],
 "metadata": {
  "kernelspec": {
   "display_name": "Python 3",
   "language": "python",
   "name": "python3"
  },
  "language_info": {
   "codemirror_mode": {
    "name": "ipython",
    "version": 3
   },
   "file_extension": ".py",
   "mimetype": "text/x-python",
   "name": "python",
   "nbconvert_exporter": "python",
   "pygments_lexer": "ipython3",
   "version": "3.11.1"
  }
 },
 "nbformat": 4,
 "nbformat_minor": 2
}
