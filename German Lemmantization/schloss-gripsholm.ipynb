{
 "cells": [
  {
   "cell_type": "code",
   "execution_count": 129,
   "metadata": {},
   "outputs": [],
   "source": [
    "import numpy            as np\n",
    "import pandas           as pd\n",
    "import plotly.express   as px\n",
    "import spacy\n",
    "from spacy import displacy\n",
    "\n",
    "file_path = \"data\\schloss-gripsholm-text.txt\"\n",
    "nlp = spacy.load(\"de_core_news_lg\")\n"
   ]
  },
  {
   "cell_type": "code",
   "execution_count": 141,
   "metadata": {},
   "outputs": [
    {
     "name": "stdout",
     "output_type": "stream",
     "text": [
      "Ich denkelte so vor mich hin.\n"
     ]
    },
    {
     "data": {
      "text/html": [
       "<span class=\"tex2jax_ignore\"><svg xmlns=\"http://www.w3.org/2000/svg\" xmlns:xlink=\"http://www.w3.org/1999/xlink\" xml:lang=\"de\" id=\"1d7c6d239369465e9388823404fcfa69-0\" class=\"displacy\" width=\"1100\" height=\"399.5\" direction=\"ltr\" style=\"max-width: none; height: 399.5px; color: #000000; background: #ffffff; font-family: Arial; direction: ltr\">\n",
       "<text class=\"displacy-token\" fill=\"currentColor\" text-anchor=\"middle\" y=\"309.5\">\n",
       "    <tspan class=\"displacy-word\" fill=\"currentColor\" x=\"50\">Ich</tspan>\n",
       "    <tspan class=\"displacy-tag\" dy=\"2em\" fill=\"currentColor\" x=\"50\">PRON</tspan>\n",
       "</text>\n",
       "\n",
       "<text class=\"displacy-token\" fill=\"currentColor\" text-anchor=\"middle\" y=\"309.5\">\n",
       "    <tspan class=\"displacy-word\" fill=\"currentColor\" x=\"225\">denkelte</tspan>\n",
       "    <tspan class=\"displacy-tag\" dy=\"2em\" fill=\"currentColor\" x=\"225\">VERB</tspan>\n",
       "</text>\n",
       "\n",
       "<text class=\"displacy-token\" fill=\"currentColor\" text-anchor=\"middle\" y=\"309.5\">\n",
       "    <tspan class=\"displacy-word\" fill=\"currentColor\" x=\"400\">so</tspan>\n",
       "    <tspan class=\"displacy-tag\" dy=\"2em\" fill=\"currentColor\" x=\"400\">ADV</tspan>\n",
       "</text>\n",
       "\n",
       "<text class=\"displacy-token\" fill=\"currentColor\" text-anchor=\"middle\" y=\"309.5\">\n",
       "    <tspan class=\"displacy-word\" fill=\"currentColor\" x=\"575\">vor</tspan>\n",
       "    <tspan class=\"displacy-tag\" dy=\"2em\" fill=\"currentColor\" x=\"575\">ADP</tspan>\n",
       "</text>\n",
       "\n",
       "<text class=\"displacy-token\" fill=\"currentColor\" text-anchor=\"middle\" y=\"309.5\">\n",
       "    <tspan class=\"displacy-word\" fill=\"currentColor\" x=\"750\">mich</tspan>\n",
       "    <tspan class=\"displacy-tag\" dy=\"2em\" fill=\"currentColor\" x=\"750\">PRON</tspan>\n",
       "</text>\n",
       "\n",
       "<text class=\"displacy-token\" fill=\"currentColor\" text-anchor=\"middle\" y=\"309.5\">\n",
       "    <tspan class=\"displacy-word\" fill=\"currentColor\" x=\"925\">hin.</tspan>\n",
       "    <tspan class=\"displacy-tag\" dy=\"2em\" fill=\"currentColor\" x=\"925\">ADV</tspan>\n",
       "</text>\n",
       "\n",
       "<g class=\"displacy-arrow\">\n",
       "    <path class=\"displacy-arc\" id=\"arrow-1d7c6d239369465e9388823404fcfa69-0-0\" stroke-width=\"2px\" d=\"M70,264.5 C70,177.0 215.0,177.0 215.0,264.5\" fill=\"none\" stroke=\"currentColor\"/>\n",
       "    <text dy=\"1.25em\" style=\"font-size: 0.8em; letter-spacing: 1px\">\n",
       "        <textPath xlink:href=\"#arrow-1d7c6d239369465e9388823404fcfa69-0-0\" class=\"displacy-label\" startOffset=\"50%\" side=\"left\" fill=\"currentColor\" text-anchor=\"middle\">sb</textPath>\n",
       "    </text>\n",
       "    <path class=\"displacy-arrowhead\" d=\"M70,266.5 L62,254.5 78,254.5\" fill=\"currentColor\"/>\n",
       "</g>\n",
       "\n",
       "<g class=\"displacy-arrow\">\n",
       "    <path class=\"displacy-arc\" id=\"arrow-1d7c6d239369465e9388823404fcfa69-0-1\" stroke-width=\"2px\" d=\"M245,264.5 C245,177.0 390.0,177.0 390.0,264.5\" fill=\"none\" stroke=\"currentColor\"/>\n",
       "    <text dy=\"1.25em\" style=\"font-size: 0.8em; letter-spacing: 1px\">\n",
       "        <textPath xlink:href=\"#arrow-1d7c6d239369465e9388823404fcfa69-0-1\" class=\"displacy-label\" startOffset=\"50%\" side=\"left\" fill=\"currentColor\" text-anchor=\"middle\">mo</textPath>\n",
       "    </text>\n",
       "    <path class=\"displacy-arrowhead\" d=\"M390.0,266.5 L398.0,254.5 382.0,254.5\" fill=\"currentColor\"/>\n",
       "</g>\n",
       "\n",
       "<g class=\"displacy-arrow\">\n",
       "    <path class=\"displacy-arc\" id=\"arrow-1d7c6d239369465e9388823404fcfa69-0-2\" stroke-width=\"2px\" d=\"M245,264.5 C245,89.5 570.0,89.5 570.0,264.5\" fill=\"none\" stroke=\"currentColor\"/>\n",
       "    <text dy=\"1.25em\" style=\"font-size: 0.8em; letter-spacing: 1px\">\n",
       "        <textPath xlink:href=\"#arrow-1d7c6d239369465e9388823404fcfa69-0-2\" class=\"displacy-label\" startOffset=\"50%\" side=\"left\" fill=\"currentColor\" text-anchor=\"middle\">mo</textPath>\n",
       "    </text>\n",
       "    <path class=\"displacy-arrowhead\" d=\"M570.0,266.5 L578.0,254.5 562.0,254.5\" fill=\"currentColor\"/>\n",
       "</g>\n",
       "\n",
       "<g class=\"displacy-arrow\">\n",
       "    <path class=\"displacy-arc\" id=\"arrow-1d7c6d239369465e9388823404fcfa69-0-3\" stroke-width=\"2px\" d=\"M595,264.5 C595,177.0 740.0,177.0 740.0,264.5\" fill=\"none\" stroke=\"currentColor\"/>\n",
       "    <text dy=\"1.25em\" style=\"font-size: 0.8em; letter-spacing: 1px\">\n",
       "        <textPath xlink:href=\"#arrow-1d7c6d239369465e9388823404fcfa69-0-3\" class=\"displacy-label\" startOffset=\"50%\" side=\"left\" fill=\"currentColor\" text-anchor=\"middle\">nk</textPath>\n",
       "    </text>\n",
       "    <path class=\"displacy-arrowhead\" d=\"M740.0,266.5 L748.0,254.5 732.0,254.5\" fill=\"currentColor\"/>\n",
       "</g>\n",
       "\n",
       "<g class=\"displacy-arrow\">\n",
       "    <path class=\"displacy-arc\" id=\"arrow-1d7c6d239369465e9388823404fcfa69-0-4\" stroke-width=\"2px\" d=\"M245,264.5 C245,2.0 925.0,2.0 925.0,264.5\" fill=\"none\" stroke=\"currentColor\"/>\n",
       "    <text dy=\"1.25em\" style=\"font-size: 0.8em; letter-spacing: 1px\">\n",
       "        <textPath xlink:href=\"#arrow-1d7c6d239369465e9388823404fcfa69-0-4\" class=\"displacy-label\" startOffset=\"50%\" side=\"left\" fill=\"currentColor\" text-anchor=\"middle\">svp</textPath>\n",
       "    </text>\n",
       "    <path class=\"displacy-arrowhead\" d=\"M925.0,266.5 L933.0,254.5 917.0,254.5\" fill=\"currentColor\"/>\n",
       "</g>\n",
       "</svg></span>"
      ],
      "text/plain": [
       "<IPython.core.display.HTML object>"
      ]
     },
     "metadata": {},
     "output_type": "display_data"
    },
    {
     "name": "stdout",
     "output_type": "stream",
     "text": [
      "Ich PRON\n",
      "denkelte VERB\n",
      "so ADV\n",
      "vor ADP\n",
      "mich PRON\n",
      "hin ADV\n",
      ". PUNCT\n"
     ]
    }
   ],
   "source": [
    "with open(file_path) as f:\n",
    "    text = f.read().replace(\"\\n\\n\", \" \").replace(\"\\n\", \" \").replace(\" \\s+\", \" \")\n",
    "    chapters = text.split(\"## \")[1:]\n",
    "\n",
    "doc = nlp(chapters[0])\n",
    "sentences = list(doc.sents)\n",
    "sentence = sentences[31]\n",
    "print(sentence)\n",
    "\n",
    "html = displacy.render(sentence, style=\"dep\")\n",
    "\n",
    "for w in sentence:\n",
    "    print(w, w.pos_)"
   ]
  },
  {
   "cell_type": "code",
   "execution_count": 108,
   "metadata": {},
   "outputs": [],
   "source": [
    "tokens = []\n",
    "\n",
    "for sentence in sentences:\n",
    "    for token in sentence:\n",
    "        if ((token.pos_ != \"PUNCT\") and\n",
    "            (token.pos_ != \"DET\") and\n",
    "            (token.pos_ !=  \"PRON\")):\n",
    "            tokens.append(token.lemma_)"
   ]
  },
  {
   "cell_type": "code",
   "execution_count": 109,
   "metadata": {},
   "outputs": [
    {
     "data": {
      "application/vnd.plotly.v1+json": {
       "config": {
        "plotlyServerURL": "https://plot.ly"
       },
       "data": [
        {
         "alignmentgroup": "True",
         "bingroup": "x",
         "hovertemplate": "variable=0<br>value=%{x}<br>count=%{y}<extra></extra>",
         "legendgroup": "0",
         "marker": {
          "color": "#636efa",
          "pattern": {
           "shape": ""
          }
         },
         "name": "0",
         "offsetgroup": "0",
         "orientation": "v",
         "showlegend": true,
         "type": "histogram",
         "x": [
          "Reise",
          "in",
          "Norden",
          "haben",
          "Altstimme",
          "und",
          "heißen",
          "Lydia",
          "Karlchen",
          "und",
          "Jakopp",
          "aber",
          "nennen",
          "Frau",
          "mit",
          "von",
          "dreien",
          "zu",
          "tun",
          "haben",
          "Prinzessin",
          "aber",
          "dürfen",
          "nach",
          "so",
          "nennen",
          "werden",
          "sein",
          "Sekretärin",
          "bei",
          "unförmig",
          "dick",
          "Patron",
          "haben",
          "einmal",
          "gesehn",
          "und",
          "finden",
          "scheußlich",
          "Mann",
          "führen",
          "Titel",
          "Generalkonsul",
          "und",
          "handeln",
          "ansonsten",
          "mit",
          "Seifen",
          "Generalkonsul",
          "haben",
          "fünf",
          "Woche",
          "Urlaub",
          "gewähren",
          "fahren",
          "nach",
          "Abbazia",
          "gestern",
          "Abend",
          "sein",
          "abfahren",
          "in",
          "Büro",
          "sitzen",
          "Schwager",
          "und",
          "für",
          "Lydia",
          "Stellvertreterin",
          "da",
          "stehen",
          "schon",
          "mit",
          "Koffer",
          "vor",
          "Haus",
          "Hallo",
          "bischa",
          "do",
          "sagen",
          "Prinzessin",
          "zu",
          "grenzenlos",
          "Verwunderung",
          "Taxichauffeur",
          "für",
          "Ostchinesisch",
          "halten",
          "sein",
          "aber",
          "Missingsch",
          "missingsch",
          "sein",
          "herauskommen",
          "wenn",
          "Plattdeutscher",
          "Hochdeutsch",
          "sprechen",
          "wollen",
          "Lydia",
          "stammen",
          "aus",
          "Rostock",
          "und",
          "beherrschten",
          "Idiom",
          "perfekt",
          "sein",
          "bäurisch",
          "Platt",
          "sein",
          "viel",
          "fein",
          "und",
          "dann",
          "sein",
          "da",
          "in",
          "Platt",
          "ganz",
          "Humor",
          "norddeutsche",
          "gutmütig",
          "Spott",
          "wenn",
          "gar",
          "zu",
          "toll",
          "treiben",
          "fest",
          "zupackend",
          "Spaß",
          "Sprache",
          "können",
          "Lydia",
          "bei",
          "Gelegenheit",
          "sprechen",
          "hier",
          "sein",
          "Gelegenheit",
          "können",
          "gahnich",
          "gienug",
          "wunnern",
          "dasse",
          "Zeit",
          "nich",
          "verschlafen",
          "Hass",
          "sagen",
          "und",
          "helfen",
          "sich",
          "und",
          "Chauffeur",
          "mit",
          "fest",
          "ruhig",
          "Bewegung",
          "und",
          "so",
          "pünktlich",
          "sein",
          "fahren",
          "Auto",
          "halten",
          "da",
          "wo",
          "bessern",
          "Geschichte",
          "anfangen",
          "an",
          "Bahnhof",
          "und",
          "dann",
          "fahren",
          "allein",
          "in",
          "Abteil",
          "über",
          "Kopenhagen",
          "nach",
          "Schweden",
          "vorläufig",
          "sein",
          "noch",
          "in",
          "Mark",
          "Brandenburg",
          "wie",
          "findest",
          "Gegend",
          "hier",
          "Peter",
          "sagen",
          "Prinzessin",
          "haben",
          "auf",
          "Peter",
          "einigen",
          "Gott",
          "wissen",
          "warum",
          "Gegend",
          "sein",
          "Heller",
          "windig",
          "Junitag",
          "recht",
          "frisch",
          "und",
          "Landschaft",
          "sehen",
          "gut",
          "aufräumen",
          "und",
          "reinigen",
          "aus",
          "warten",
          "auf",
          "Sommer",
          "und",
          "sagen",
          "sein",
          "karg",
          "Prinzessin",
          "schlief",
          "denkelten",
          "so",
          "vor",
          "hin",
          "Prinzessin",
          "behaupten",
          "sagen",
          "zu",
          "von",
          "geliebt",
          "Frau",
          "aber",
          "auch",
          "zujeder",
          "wie",
          "schön",
          "dass",
          "da",
          "sein",
          "sein",
          "pfundsdick",
          "Lüge",
          "manchmal",
          "sagen",
          "oder",
          "denken",
          "doch",
          "auch",
          "wie",
          "schön",
          "dass",
          "da",
          "sein",
          "und",
          "nicht",
          "hier",
          "aber",
          "wenn",
          "Lydia",
          "so",
          "neben",
          "sitzen",
          "sehen",
          "da",
          "sagen",
          "nun",
          "wirklich",
          "warum",
          "wissen",
          "nicht",
          "wussen",
          "nur",
          "tief",
          "Wort",
          "deutsch",
          "Sprache",
          "sagen",
          "von",
          "zwei",
          "Leute",
          "dass",
          "nicht",
          "riechen",
          "können",
          "können",
          "und",
          "sein",
          "wenn",
          "anhalten",
          "schon",
          "sehr",
          "sein",
          "in",
          "Geliebte",
          "komisch",
          "Oper",
          "Mutter",
          "und",
          "Freund",
          "sein",
          "haben",
          "nie",
          "ergründen",
          "können",
          "und",
          "dann",
          "Altstimm",
          "haben",
          "einmal",
          "nachts",
          "wecken",
          "und",
          "als",
          "Aufschrak",
          "Sag",
          "bitten",
          "Dummer",
          "sagen",
          "und",
          "schlief",
          "lächelnd",
          "wieder",
          "ein",
          "aber",
          "haben",
          "tief",
          "Stimme",
          "gehören",
          "und",
          "sein",
          "Missingsch",
          "Leute",
          "erscheinen",
          "plattdeutsch",
          "Sprache",
          "grob",
          "und",
          "mögen",
          "nicht",
          "haben",
          "Sprache",
          "immer",
          "lieben",
          "Vater",
          "sprechen",
          "wie",
          "Hochdeutsch",
          "sein",
          "Sprache",
          "Meer",
          "Plattdeutsche",
          "können",
          "sein",
          "zart",
          "und",
          "grob",
          "humorvoll",
          "und",
          "herzlich",
          "klar",
          "und",
          "nüchtern",
          "also",
          "sprechen",
          "Prinzessin",
          "ah",
          "nicht",
          "Tag",
          "sein",
          "ja",
          "unerträglich",
          "sein",
          "sagen",
          "darin",
          "Ding",
          "besonders",
          "an",
          "Herzen",
          "liegen",
          "haben",
          "in",
          "Lauf",
          "Zeit",
          "schon",
          "von",
          "Berlin",
          "annehmen",
          "aber",
          "mitunter",
          "sprechen",
          "doch",
          "Platt",
          "oder",
          "eben",
          "halb",
          "Platt",
          "Missingsch",
          "wissen",
          "noch",
          "wie",
          "heute",
          "sein",
          "als",
          "kennenlernten",
          "sein",
          "damals",
          "zu",
          "Tee",
          "bei",
          "und",
          "bieten",
          "lächerlich",
          "Anblick",
          "Mann",
          "balzen",
          "dabei",
          "sein",
          "ja",
          "sehr",
          "komisch",
          "machen",
          "Plüschaug",
          "und",
          "sprechen",
          "über",
          "Literatur",
          "lächelen",
          "erzählen",
          "Scherz",
          "und",
          "beleuchten",
          "Schaufenster",
          "Herzens",
          "und",
          "dann",
          "sprechen",
          "von",
          "Liebe",
          "haben",
          "erklären",
          "in",
          "Augenblick",
          "wussen",
          "und",
          "sein",
          "nicht",
          "wenig",
          "sein",
          "so",
          "stolz",
          "für",
          "gewagt",
          "Sache",
          "da",
          "sagen",
          "haben",
          "sein",
          "nun",
          "eigentlich",
          "Augenblick",
          "kommen",
          "zu",
          "sagen",
          "ja",
          "also",
          "dann",
          "da",
          "sehen",
          "Prinzessin",
          "lange",
          "an",
          "und",
          "sprechen",
          "weltbefohrn",
          "dschung",
          "Mann",
          "und",
          "da",
          "sein",
          "aus",
          "und",
          "finden",
          "erst",
          "viel",
          "spät",
          "bei",
          "wieder",
          "mit",
          "erotisch",
          "Weihe",
          "sein",
          "werden",
          "aber",
          "mit",
          "Liebe",
          "sein",
          "werden",
          "Zug",
          "halten",
          "Prinzessin",
          "fahren",
          "auf",
          "öffnen",
          "Auge",
          "wo",
          "sein",
          "sehen",
          "aus",
          "wie",
          "Stolp",
          "oder",
          "Stargard",
          "jedenfalls",
          "sein",
          "mit",
          "St",
          "sagen",
          "entschlummeren",
          "auf",
          "neue",
          "und",
          "fahren",
          "lange",
          "lange",
          "bis",
          "Warnemünde",
          "Europa",
          "zollen",
          "betreten",
          "Mann",
          "Raum",
          "fragt",
          "Höflichst",
          "ob",
          "und",
          "sagen",
          "nein",
          "haben",
          "nicht",
          "und",
          "dann",
          "gehen",
          "Mann",
          "wieder",
          "weg",
          "verstehst",
          "fragen",
          "Lydia",
          "verstehen",
          "nicht",
          "sagen",
          "sein",
          "Gesellschaftsspiel",
          "und",
          "Religion",
          "Religion",
          "Vaterländ",
          "sieh",
          "mal",
          "können",
          "mit",
          "Vaterländer",
          "doch",
          "nur",
          "machen",
          "wenn",
          "Feind",
          "haben",
          "und",
          "Grenze",
          "sonst",
          "wüssten",
          "nie",
          "wo",
          "anfängen",
          "und",
          "wo",
          "Andre",
          "aufhören",
          "na",
          "und",
          "gehen",
          "doch",
          "nicht",
          "wie",
          "Prinzessin",
          "finden",
          "dass",
          "nicht",
          "gehen",
          "und",
          "dann",
          "werden",
          "auf",
          "Fähr",
          "schieben",
          "Schiffsläng",
          "Backbord",
          "Steuerbord",
          "ganz",
          "leise",
          "arbeiten",
          "Maschine",
          "Warnemünde",
          "bleiben",
          "zurück",
          "unmerklich",
          "lösen",
          "von",
          "Land",
          "vorbei",
          "an",
          "Mole",
          "da",
          "liegen",
          "Küste",
          "da",
          "liegen",
          "Deutschland",
          "sehen",
          "nur",
          "flach",
          "bewaldet",
          "Uferstreif",
          "und",
          "Haus",
          "Hotel",
          "immer",
          "klein",
          "werden",
          "und",
          "Strand",
          "Prinzessin",
          "befehlen",
          "in",
          "Speiseraum",
          "da",
          "sitzen",
          "und",
          "aßen",
          "und",
          "werden",
          "gar",
          "nicht",
          "gut",
          "als",
          "sehen",
          "denn",
          "essen",
          "Fett",
          "in",
          "Dänemark",
          "und",
          "sein",
          "dänisch",
          "Fähr",
          "und",
          "dazu",
          "tranken",
          "herrlich",
          "Schnaps",
          "Prinzessin",
          "speisten",
          "sehen",
          "ehrfürchtig",
          "zu",
          "sein",
          "Essfest",
          "nimmst",
          "gar",
          "fragen",
          "zwischen",
          "zwei",
          "Hering",
          "sehen",
          "Heringe",
          "an",
          "Heringe",
          "sehen",
          "an",
          "schwiegen",
          "drei",
          "erst",
          "als",
          "Fähr",
          "landen",
          "leben",
          "wieder",
          "auf",
          "und",
          "dann",
          "ruckelen",
          "durch",
          "Laaland",
          "dalag",
          "flach",
          "wie",
          "eierkuchen",
          "und",
          "dann",
          "spielen",
          "Bücherspiel",
          "lesen",
          "abwechselnd",
          "Satz",
          "aus",
          "Buch",
          "vor",
          "und",
          "Satz",
          "fügen",
          "gar",
          "schön",
          "ineinander",
          "Prinzessin",
          "blättern",
          "Seite",
          "um",
          "sehen",
          "auf",
          "Hand",
          "haben",
          "so",
          "zuverlässig",
          "Hand",
          "einmal",
          "stehen",
          "in",
          "Gang",
          "und",
          "sehen",
          "zu",
          "Fenster",
          "hinaus",
          "und",
          "dann",
          "gehen",
          "fort",
          "und",
          "sehen",
          "nicht",
          "mehr",
          "tasten",
          "nach",
          "Täschchen",
          "sein",
          "noch",
          "warm",
          "von",
          "Hand",
          "streichelen",
          "Wärme",
          "und",
          "dann",
          "rollen",
          "weiter",
          "und",
          "dann",
          "endlich",
          "endlich",
          "sein",
          "in",
          "Kopenhagen",
          "wenn",
          "nach",
          "hinten",
          "heraus",
          "wohnen",
          "sagen",
          "in",
          "Hotel",
          "dann",
          "riechen",
          "nach",
          "Küche",
          "außerdem",
          "muss",
          "noch",
          "von",
          "vorig",
          "Mal",
          "Besoffener",
          "Spanier",
          "da",
          "sein",
          "komponiert",
          "auf",
          "Piano",
          "und",
          "machen",
          "zehn",
          "Stunde",
          "lang",
          "täglich",
          "wenn",
          "aber",
          "nach",
          "vorn",
          "heraus",
          "wohnen",
          "dann",
          "klingeln",
          "da",
          "Viertelstund",
          "Rathausuhr",
          "und",
          "erinnern",
          "an",
          "Vergänglichkeit",
          "Zeit",
          "wohnen",
          "also",
          "nach",
          "Rathausplatz",
          "zu",
          "und",
          "Uhr",
          "klingelen",
          "und",
          "sein",
          "sehr",
          "schön",
          "Lydia",
          "picken",
          "auf",
          "Teller",
          "herum",
          "sehen",
          "bewundernd",
          "zu",
          "frisst",
          "sagen",
          "freundlich",
          "haben",
          "schon",
          "Leute",
          "sehen",
          "gessen",
          "haben",
          "und",
          "auch",
          "Leute",
          "schnell",
          "gessen",
          "haben",
          "aber",
          "so",
          "und",
          "so",
          "schnell",
          "rein",
          "Neid\"-",
          "murmeln",
          "sein",
          "fein",
          "Abendessen",
          "aber",
          "sein",
          "nahrhaft",
          "Abendessen",
          "ja",
          "Kopenhagen",
          "sehen",
          "an",
          "Tivolipark",
          "und",
          "schön",
          "Rathaus",
          "und",
          "Thorwaldsen-Museum",
          "in",
          "so",
          "aussehen",
          "wie",
          "wenn",
          "aus",
          "Gips",
          "sein",
          "Stadt",
          "und",
          "Straße",
          "groß",
          "Tiergarten",
          "König",
          "gehören",
          "und",
          "in",
          "wild",
          "zahmer",
          "Hirsch",
          "herumlaufen",
          "und",
          "so",
          "hoch",
          "alt",
          "Baum",
          "Abfahrt",
          "wie",
          "werden",
          "eigentlich",
          "mit",
          "Sprache",
          "fragen",
          "Prinzessin",
          "als",
          "in",
          "Zug",
          "nach",
          "Helsingör",
          "sitzen",
          "warst",
          "doch",
          "schon",
          "mal",
          "da",
          "Sprichst",
          "denn",
          "nun",
          "gut",
          "Schwedisch",
          "machen",
          "so",
          "sagen",
          "erst",
          "sprechen",
          "Deutsch",
          "und",
          "wenn",
          "nicht",
          "verstehn",
          "Englisch",
          "und",
          "wenn",
          "nicht",
          "verstehn",
          "Platt",
          "und",
          "wenn",
          "helfen",
          "dann",
          "hängen",
          "an",
          "deutsch",
          "Wort",
          "Endung",
          "as",
          "an",
          "und",
          "Sprecha",
          "verstehas",
          "ganz",
          "gut",
          "gefallen",
          "Ungemein",
          "und",
          "nehmen",
          "gleich",
          "in",
          "Sprachschatz",
          "auf.,Ja",
          "also",
          "nun",
          "kommen",
          "Schweden",
          "ob",
          "in",
          "Schweden",
          "erlebas",
          "meinsen",
          "ja",
          "sollen",
          "wohl",
          "auf",
          "Urlaub",
          "erleben",
          "hoffentlich",
          "Helsingör",
          "steigen",
          "auf",
          "klein",
          "Fähr",
          "oben",
          "stehen",
          "dann",
          "an",
          "Schiffsgeländer",
          "atmeen",
          "rein",
          "Luft",
          "und",
          "blicken",
          "auf",
          "Küste",
          "dänisch",
          "Zurückblieb",
          "und",
          "schwedisch",
          "nähern",
          "sehen",
          "Prinzessin",
          "von",
          "Seite",
          "an",
          "manchmal",
          "sein",
          "wie",
          "fremd",
          "Frau",
          "und",
          "in",
          "fremd",
          "Frau",
          "verlieben",
          "immer",
          "auf",
          "neue",
          "und",
          "mussen",
          "immer",
          "auf",
          "neue",
          "erobern",
          "wie",
          "weit",
          "sein",
          "von",
          "Mann",
          "zu",
          "Frau",
          "aber",
          "sein",
          "schön",
          "in",
          "Frau",
          "wie",
          "in",
          "Meer",
          "zu",
          "tauchen",
          "nicht",
          "denken",
          "von",
          "haben",
          "Brille",
          "auf",
          "haben",
          "verlernen",
          "Frau",
          "zu",
          "sein",
          "und",
          "haben",
          "nur",
          "noch",
          "dünn",
          "Charme",
          "ja",
          "wollen",
          "wohl",
          "bissch",
          "klug",
          "Gespräch",
          "und",
          "Logik",
          "und",
          "gut",
          "Aussehen",
          "und",
          "bissch",
          "Treue",
          "und",
          "dann",
          "nie",
          "zu",
          "unterdrückend",
          "Wunsch",
          "von",
          "Frau",
          "wie",
          "Beefsteak",
          "gefressen",
          "zu",
          "werden",
          "Hast",
          "schwedisch",
          "Geld",
          "fragen",
          "Prinzessin",
          "träumerisch",
          "ja",
          "haben",
          "schwedisch",
          "Krone",
          "sagen",
          "sein",
          "hübsch",
          "Geld",
          "und",
          "deshalb",
          "werden",
          "auch",
          "nur",
          "vorsichtig",
          "ausgeben",
          " ",
          "Geizvettel",
          "sagen",
          "Prinzessin",
          "besitzen",
          "gemeinsam",
          "Reisekasse",
          "an",
          "haben",
          "sechs",
          "Monat",
          "herumgerechnen",
          "und",
          "nun",
          "sein",
          "in",
          "Schweden",
          "Schwede",
          "sprechen",
          "anders",
          "Deutsch",
          "als",
          "Däne",
          "Däne",
          "hauchen",
          "klingen",
          "bei",
          "federleichen",
          "bei",
          "Schweden",
          "wohnen",
          "Sprache",
          "weiter",
          "hinten",
          "und",
          "dann",
          "singen",
          "so",
          "schön",
          "dabei",
          "protzen",
          "furchtbar",
          "mit",
          "zehn",
          "schwedisch",
          "Wort",
          "aber",
          "werden",
          "nicht",
          "verstehen"
         ],
         "xaxis": "x",
         "yaxis": "y"
        }
       ],
       "layout": {
        "barmode": "relative",
        "legend": {
         "title": {
          "text": "variable"
         },
         "tracegroupgap": 0
        },
        "margin": {
         "t": 60
        },
        "template": {
         "data": {
          "bar": [
           {
            "error_x": {
             "color": "#2a3f5f"
            },
            "error_y": {
             "color": "#2a3f5f"
            },
            "marker": {
             "line": {
              "color": "#E5ECF6",
              "width": 0.5
             },
             "pattern": {
              "fillmode": "overlay",
              "size": 10,
              "solidity": 0.2
             }
            },
            "type": "bar"
           }
          ],
          "barpolar": [
           {
            "marker": {
             "line": {
              "color": "#E5ECF6",
              "width": 0.5
             },
             "pattern": {
              "fillmode": "overlay",
              "size": 10,
              "solidity": 0.2
             }
            },
            "type": "barpolar"
           }
          ],
          "carpet": [
           {
            "aaxis": {
             "endlinecolor": "#2a3f5f",
             "gridcolor": "white",
             "linecolor": "white",
             "minorgridcolor": "white",
             "startlinecolor": "#2a3f5f"
            },
            "baxis": {
             "endlinecolor": "#2a3f5f",
             "gridcolor": "white",
             "linecolor": "white",
             "minorgridcolor": "white",
             "startlinecolor": "#2a3f5f"
            },
            "type": "carpet"
           }
          ],
          "choropleth": [
           {
            "colorbar": {
             "outlinewidth": 0,
             "ticks": ""
            },
            "type": "choropleth"
           }
          ],
          "contour": [
           {
            "colorbar": {
             "outlinewidth": 0,
             "ticks": ""
            },
            "colorscale": [
             [
              0,
              "#0d0887"
             ],
             [
              0.1111111111111111,
              "#46039f"
             ],
             [
              0.2222222222222222,
              "#7201a8"
             ],
             [
              0.3333333333333333,
              "#9c179e"
             ],
             [
              0.4444444444444444,
              "#bd3786"
             ],
             [
              0.5555555555555556,
              "#d8576b"
             ],
             [
              0.6666666666666666,
              "#ed7953"
             ],
             [
              0.7777777777777778,
              "#fb9f3a"
             ],
             [
              0.8888888888888888,
              "#fdca26"
             ],
             [
              1,
              "#f0f921"
             ]
            ],
            "type": "contour"
           }
          ],
          "contourcarpet": [
           {
            "colorbar": {
             "outlinewidth": 0,
             "ticks": ""
            },
            "type": "contourcarpet"
           }
          ],
          "heatmap": [
           {
            "colorbar": {
             "outlinewidth": 0,
             "ticks": ""
            },
            "colorscale": [
             [
              0,
              "#0d0887"
             ],
             [
              0.1111111111111111,
              "#46039f"
             ],
             [
              0.2222222222222222,
              "#7201a8"
             ],
             [
              0.3333333333333333,
              "#9c179e"
             ],
             [
              0.4444444444444444,
              "#bd3786"
             ],
             [
              0.5555555555555556,
              "#d8576b"
             ],
             [
              0.6666666666666666,
              "#ed7953"
             ],
             [
              0.7777777777777778,
              "#fb9f3a"
             ],
             [
              0.8888888888888888,
              "#fdca26"
             ],
             [
              1,
              "#f0f921"
             ]
            ],
            "type": "heatmap"
           }
          ],
          "heatmapgl": [
           {
            "colorbar": {
             "outlinewidth": 0,
             "ticks": ""
            },
            "colorscale": [
             [
              0,
              "#0d0887"
             ],
             [
              0.1111111111111111,
              "#46039f"
             ],
             [
              0.2222222222222222,
              "#7201a8"
             ],
             [
              0.3333333333333333,
              "#9c179e"
             ],
             [
              0.4444444444444444,
              "#bd3786"
             ],
             [
              0.5555555555555556,
              "#d8576b"
             ],
             [
              0.6666666666666666,
              "#ed7953"
             ],
             [
              0.7777777777777778,
              "#fb9f3a"
             ],
             [
              0.8888888888888888,
              "#fdca26"
             ],
             [
              1,
              "#f0f921"
             ]
            ],
            "type": "heatmapgl"
           }
          ],
          "histogram": [
           {
            "marker": {
             "pattern": {
              "fillmode": "overlay",
              "size": 10,
              "solidity": 0.2
             }
            },
            "type": "histogram"
           }
          ],
          "histogram2d": [
           {
            "colorbar": {
             "outlinewidth": 0,
             "ticks": ""
            },
            "colorscale": [
             [
              0,
              "#0d0887"
             ],
             [
              0.1111111111111111,
              "#46039f"
             ],
             [
              0.2222222222222222,
              "#7201a8"
             ],
             [
              0.3333333333333333,
              "#9c179e"
             ],
             [
              0.4444444444444444,
              "#bd3786"
             ],
             [
              0.5555555555555556,
              "#d8576b"
             ],
             [
              0.6666666666666666,
              "#ed7953"
             ],
             [
              0.7777777777777778,
              "#fb9f3a"
             ],
             [
              0.8888888888888888,
              "#fdca26"
             ],
             [
              1,
              "#f0f921"
             ]
            ],
            "type": "histogram2d"
           }
          ],
          "histogram2dcontour": [
           {
            "colorbar": {
             "outlinewidth": 0,
             "ticks": ""
            },
            "colorscale": [
             [
              0,
              "#0d0887"
             ],
             [
              0.1111111111111111,
              "#46039f"
             ],
             [
              0.2222222222222222,
              "#7201a8"
             ],
             [
              0.3333333333333333,
              "#9c179e"
             ],
             [
              0.4444444444444444,
              "#bd3786"
             ],
             [
              0.5555555555555556,
              "#d8576b"
             ],
             [
              0.6666666666666666,
              "#ed7953"
             ],
             [
              0.7777777777777778,
              "#fb9f3a"
             ],
             [
              0.8888888888888888,
              "#fdca26"
             ],
             [
              1,
              "#f0f921"
             ]
            ],
            "type": "histogram2dcontour"
           }
          ],
          "mesh3d": [
           {
            "colorbar": {
             "outlinewidth": 0,
             "ticks": ""
            },
            "type": "mesh3d"
           }
          ],
          "parcoords": [
           {
            "line": {
             "colorbar": {
              "outlinewidth": 0,
              "ticks": ""
             }
            },
            "type": "parcoords"
           }
          ],
          "pie": [
           {
            "automargin": true,
            "type": "pie"
           }
          ],
          "scatter": [
           {
            "fillpattern": {
             "fillmode": "overlay",
             "size": 10,
             "solidity": 0.2
            },
            "type": "scatter"
           }
          ],
          "scatter3d": [
           {
            "line": {
             "colorbar": {
              "outlinewidth": 0,
              "ticks": ""
             }
            },
            "marker": {
             "colorbar": {
              "outlinewidth": 0,
              "ticks": ""
             }
            },
            "type": "scatter3d"
           }
          ],
          "scattercarpet": [
           {
            "marker": {
             "colorbar": {
              "outlinewidth": 0,
              "ticks": ""
             }
            },
            "type": "scattercarpet"
           }
          ],
          "scattergeo": [
           {
            "marker": {
             "colorbar": {
              "outlinewidth": 0,
              "ticks": ""
             }
            },
            "type": "scattergeo"
           }
          ],
          "scattergl": [
           {
            "marker": {
             "colorbar": {
              "outlinewidth": 0,
              "ticks": ""
             }
            },
            "type": "scattergl"
           }
          ],
          "scattermapbox": [
           {
            "marker": {
             "colorbar": {
              "outlinewidth": 0,
              "ticks": ""
             }
            },
            "type": "scattermapbox"
           }
          ],
          "scatterpolar": [
           {
            "marker": {
             "colorbar": {
              "outlinewidth": 0,
              "ticks": ""
             }
            },
            "type": "scatterpolar"
           }
          ],
          "scatterpolargl": [
           {
            "marker": {
             "colorbar": {
              "outlinewidth": 0,
              "ticks": ""
             }
            },
            "type": "scatterpolargl"
           }
          ],
          "scatterternary": [
           {
            "marker": {
             "colorbar": {
              "outlinewidth": 0,
              "ticks": ""
             }
            },
            "type": "scatterternary"
           }
          ],
          "surface": [
           {
            "colorbar": {
             "outlinewidth": 0,
             "ticks": ""
            },
            "colorscale": [
             [
              0,
              "#0d0887"
             ],
             [
              0.1111111111111111,
              "#46039f"
             ],
             [
              0.2222222222222222,
              "#7201a8"
             ],
             [
              0.3333333333333333,
              "#9c179e"
             ],
             [
              0.4444444444444444,
              "#bd3786"
             ],
             [
              0.5555555555555556,
              "#d8576b"
             ],
             [
              0.6666666666666666,
              "#ed7953"
             ],
             [
              0.7777777777777778,
              "#fb9f3a"
             ],
             [
              0.8888888888888888,
              "#fdca26"
             ],
             [
              1,
              "#f0f921"
             ]
            ],
            "type": "surface"
           }
          ],
          "table": [
           {
            "cells": {
             "fill": {
              "color": "#EBF0F8"
             },
             "line": {
              "color": "white"
             }
            },
            "header": {
             "fill": {
              "color": "#C8D4E3"
             },
             "line": {
              "color": "white"
             }
            },
            "type": "table"
           }
          ]
         },
         "layout": {
          "annotationdefaults": {
           "arrowcolor": "#2a3f5f",
           "arrowhead": 0,
           "arrowwidth": 1
          },
          "autotypenumbers": "strict",
          "coloraxis": {
           "colorbar": {
            "outlinewidth": 0,
            "ticks": ""
           }
          },
          "colorscale": {
           "diverging": [
            [
             0,
             "#8e0152"
            ],
            [
             0.1,
             "#c51b7d"
            ],
            [
             0.2,
             "#de77ae"
            ],
            [
             0.3,
             "#f1b6da"
            ],
            [
             0.4,
             "#fde0ef"
            ],
            [
             0.5,
             "#f7f7f7"
            ],
            [
             0.6,
             "#e6f5d0"
            ],
            [
             0.7,
             "#b8e186"
            ],
            [
             0.8,
             "#7fbc41"
            ],
            [
             0.9,
             "#4d9221"
            ],
            [
             1,
             "#276419"
            ]
           ],
           "sequential": [
            [
             0,
             "#0d0887"
            ],
            [
             0.1111111111111111,
             "#46039f"
            ],
            [
             0.2222222222222222,
             "#7201a8"
            ],
            [
             0.3333333333333333,
             "#9c179e"
            ],
            [
             0.4444444444444444,
             "#bd3786"
            ],
            [
             0.5555555555555556,
             "#d8576b"
            ],
            [
             0.6666666666666666,
             "#ed7953"
            ],
            [
             0.7777777777777778,
             "#fb9f3a"
            ],
            [
             0.8888888888888888,
             "#fdca26"
            ],
            [
             1,
             "#f0f921"
            ]
           ],
           "sequentialminus": [
            [
             0,
             "#0d0887"
            ],
            [
             0.1111111111111111,
             "#46039f"
            ],
            [
             0.2222222222222222,
             "#7201a8"
            ],
            [
             0.3333333333333333,
             "#9c179e"
            ],
            [
             0.4444444444444444,
             "#bd3786"
            ],
            [
             0.5555555555555556,
             "#d8576b"
            ],
            [
             0.6666666666666666,
             "#ed7953"
            ],
            [
             0.7777777777777778,
             "#fb9f3a"
            ],
            [
             0.8888888888888888,
             "#fdca26"
            ],
            [
             1,
             "#f0f921"
            ]
           ]
          },
          "colorway": [
           "#636efa",
           "#EF553B",
           "#00cc96",
           "#ab63fa",
           "#FFA15A",
           "#19d3f3",
           "#FF6692",
           "#B6E880",
           "#FF97FF",
           "#FECB52"
          ],
          "font": {
           "color": "#2a3f5f"
          },
          "geo": {
           "bgcolor": "white",
           "lakecolor": "white",
           "landcolor": "#E5ECF6",
           "showlakes": true,
           "showland": true,
           "subunitcolor": "white"
          },
          "hoverlabel": {
           "align": "left"
          },
          "hovermode": "closest",
          "mapbox": {
           "style": "light"
          },
          "paper_bgcolor": "white",
          "plot_bgcolor": "#E5ECF6",
          "polar": {
           "angularaxis": {
            "gridcolor": "white",
            "linecolor": "white",
            "ticks": ""
           },
           "bgcolor": "#E5ECF6",
           "radialaxis": {
            "gridcolor": "white",
            "linecolor": "white",
            "ticks": ""
           }
          },
          "scene": {
           "xaxis": {
            "backgroundcolor": "#E5ECF6",
            "gridcolor": "white",
            "gridwidth": 2,
            "linecolor": "white",
            "showbackground": true,
            "ticks": "",
            "zerolinecolor": "white"
           },
           "yaxis": {
            "backgroundcolor": "#E5ECF6",
            "gridcolor": "white",
            "gridwidth": 2,
            "linecolor": "white",
            "showbackground": true,
            "ticks": "",
            "zerolinecolor": "white"
           },
           "zaxis": {
            "backgroundcolor": "#E5ECF6",
            "gridcolor": "white",
            "gridwidth": 2,
            "linecolor": "white",
            "showbackground": true,
            "ticks": "",
            "zerolinecolor": "white"
           }
          },
          "shapedefaults": {
           "line": {
            "color": "#2a3f5f"
           }
          },
          "ternary": {
           "aaxis": {
            "gridcolor": "white",
            "linecolor": "white",
            "ticks": ""
           },
           "baxis": {
            "gridcolor": "white",
            "linecolor": "white",
            "ticks": ""
           },
           "bgcolor": "#E5ECF6",
           "caxis": {
            "gridcolor": "white",
            "linecolor": "white",
            "ticks": ""
           }
          },
          "title": {
           "x": 0.05
          },
          "xaxis": {
           "automargin": true,
           "gridcolor": "white",
           "linecolor": "white",
           "ticks": "",
           "title": {
            "standoff": 15
           },
           "zerolinecolor": "white",
           "zerolinewidth": 2
          },
          "yaxis": {
           "automargin": true,
           "gridcolor": "white",
           "linecolor": "white",
           "ticks": "",
           "title": {
            "standoff": 15
           },
           "zerolinecolor": "white",
           "zerolinewidth": 2
          }
         }
        },
        "xaxis": {
         "anchor": "y",
         "categoryorder": "mean descending",
         "domain": [
          0,
          1
         ],
         "title": {
          "text": "value"
         }
        },
        "yaxis": {
         "anchor": "x",
         "domain": [
          0,
          1
         ],
         "title": {
          "text": "count"
         }
        }
       }
      }
     },
     "metadata": {},
     "output_type": "display_data"
    }
   ],
   "source": [
    "fig = px.histogram(tokens)\n",
    "fig.update_xaxes(categoryorder=\"mean descending\")"
   ]
  },
  {
   "cell_type": "code",
   "execution_count": 110,
   "metadata": {},
   "outputs": [
    {
     "data": {
      "text/html": [
       "<div>\n",
       "<style scoped>\n",
       "    .dataframe tbody tr th:only-of-type {\n",
       "        vertical-align: middle;\n",
       "    }\n",
       "\n",
       "    .dataframe tbody tr th {\n",
       "        vertical-align: top;\n",
       "    }\n",
       "\n",
       "    .dataframe thead th {\n",
       "        text-align: right;\n",
       "    }\n",
       "</style>\n",
       "<table border=\"1\" class=\"dataframe\">\n",
       "  <thead>\n",
       "    <tr style=\"text-align: right;\">\n",
       "      <th></th>\n",
       "      <th>token</th>\n",
       "      <th>token_freq</th>\n",
       "    </tr>\n",
       "  </thead>\n",
       "  <tbody>\n",
       "    <tr>\n",
       "      <th>0</th>\n",
       "      <td>Reise</td>\n",
       "      <td>1</td>\n",
       "    </tr>\n",
       "    <tr>\n",
       "      <th>2</th>\n",
       "      <td>Norden</td>\n",
       "      <td>1</td>\n",
       "    </tr>\n",
       "    <tr>\n",
       "      <th>4</th>\n",
       "      <td>Altstimme</td>\n",
       "      <td>1</td>\n",
       "    </tr>\n",
       "    <tr>\n",
       "      <th>6</th>\n",
       "      <td>heißen</td>\n",
       "      <td>1</td>\n",
       "    </tr>\n",
       "    <tr>\n",
       "      <th>8</th>\n",
       "      <td>Karlchen</td>\n",
       "      <td>1</td>\n",
       "    </tr>\n",
       "    <tr>\n",
       "      <th>10</th>\n",
       "      <td>Jakopp</td>\n",
       "      <td>1</td>\n",
       "    </tr>\n",
       "    <tr>\n",
       "      <th>16</th>\n",
       "      <td>dreien</td>\n",
       "      <td>1</td>\n",
       "    </tr>\n",
       "    <tr>\n",
       "      <th>18</th>\n",
       "      <td>tun</td>\n",
       "      <td>1</td>\n",
       "    </tr>\n",
       "    <tr>\n",
       "      <th>22</th>\n",
       "      <td>dürfen</td>\n",
       "      <td>1</td>\n",
       "    </tr>\n",
       "    <tr>\n",
       "      <th>25</th>\n",
       "      <td>nennen</td>\n",
       "      <td>2</td>\n",
       "    </tr>\n",
       "    <tr>\n",
       "      <th>28</th>\n",
       "      <td>Sekretärin</td>\n",
       "      <td>1</td>\n",
       "    </tr>\n",
       "    <tr>\n",
       "      <th>30</th>\n",
       "      <td>unförmig</td>\n",
       "      <td>1</td>\n",
       "    </tr>\n",
       "    <tr>\n",
       "      <th>31</th>\n",
       "      <td>dick</td>\n",
       "      <td>1</td>\n",
       "    </tr>\n",
       "    <tr>\n",
       "      <th>32</th>\n",
       "      <td>Patron</td>\n",
       "      <td>1</td>\n",
       "    </tr>\n",
       "    <tr>\n",
       "      <th>35</th>\n",
       "      <td>gesehn</td>\n",
       "      <td>1</td>\n",
       "    </tr>\n",
       "    <tr>\n",
       "      <th>38</th>\n",
       "      <td>scheußlich</td>\n",
       "      <td>1</td>\n",
       "    </tr>\n",
       "    <tr>\n",
       "      <th>40</th>\n",
       "      <td>führen</td>\n",
       "      <td>1</td>\n",
       "    </tr>\n",
       "    <tr>\n",
       "      <th>41</th>\n",
       "      <td>Titel</td>\n",
       "      <td>1</td>\n",
       "    </tr>\n",
       "    <tr>\n",
       "      <th>44</th>\n",
       "      <td>handeln</td>\n",
       "      <td>1</td>\n",
       "    </tr>\n",
       "    <tr>\n",
       "      <th>45</th>\n",
       "      <td>ansonsten</td>\n",
       "      <td>1</td>\n",
       "    </tr>\n",
       "    <tr>\n",
       "      <th>47</th>\n",
       "      <td>Seifen</td>\n",
       "      <td>1</td>\n",
       "    </tr>\n",
       "    <tr>\n",
       "      <th>48</th>\n",
       "      <td>Generalkonsul</td>\n",
       "      <td>2</td>\n",
       "    </tr>\n",
       "    <tr>\n",
       "      <th>50</th>\n",
       "      <td>fünf</td>\n",
       "      <td>1</td>\n",
       "    </tr>\n",
       "    <tr>\n",
       "      <th>51</th>\n",
       "      <td>Woche</td>\n",
       "      <td>1</td>\n",
       "    </tr>\n",
       "    <tr>\n",
       "      <th>53</th>\n",
       "      <td>gewähren</td>\n",
       "      <td>1</td>\n",
       "    </tr>\n",
       "  </tbody>\n",
       "</table>\n",
       "</div>"
      ],
      "text/plain": [
       "            token  token_freq\n",
       "0           Reise           1\n",
       "2          Norden           1\n",
       "4       Altstimme           1\n",
       "6          heißen           1\n",
       "8        Karlchen           1\n",
       "10         Jakopp           1\n",
       "16         dreien           1\n",
       "18            tun           1\n",
       "22         dürfen           1\n",
       "25         nennen           2\n",
       "28     Sekretärin           1\n",
       "30       unförmig           1\n",
       "31           dick           1\n",
       "32         Patron           1\n",
       "35         gesehn           1\n",
       "38     scheußlich           1\n",
       "40         führen           1\n",
       "41          Titel           1\n",
       "44        handeln           1\n",
       "45      ansonsten           1\n",
       "47         Seifen           1\n",
       "48  Generalkonsul           2\n",
       "50           fünf           1\n",
       "51          Woche           1\n",
       "53       gewähren           1"
      ]
     },
     "execution_count": 110,
     "metadata": {},
     "output_type": "execute_result"
    }
   ],
   "source": [
    "df = pd.DataFrame(tokens, columns=[\"token\"])\n",
    "fr = df[\"token\"].value_counts()\n",
    "# print(fr)\n",
    "\n",
    "df.drop_duplicates(subset=[\"token\"], inplace=True, keep=\"last\")\n",
    "df[\"token_freq\"] = fr[df[\"token\"]].to_numpy()\n",
    "# df.at[1, \"token_freq\"] = int(fr[df.at[1, \"token\"]])\n",
    "# print(fr)\n",
    "df.head(25)"
   ]
  },
  {
   "cell_type": "code",
   "execution_count": 111,
   "metadata": {},
   "outputs": [
    {
     "data": {
      "text/html": [
       "<div>\n",
       "<style scoped>\n",
       "    .dataframe tbody tr th:only-of-type {\n",
       "        vertical-align: middle;\n",
       "    }\n",
       "\n",
       "    .dataframe tbody tr th {\n",
       "        vertical-align: top;\n",
       "    }\n",
       "\n",
       "    .dataframe thead th {\n",
       "        text-align: right;\n",
       "    }\n",
       "</style>\n",
       "<table border=\"1\" class=\"dataframe\">\n",
       "  <thead>\n",
       "    <tr style=\"text-align: right;\">\n",
       "      <th></th>\n",
       "      <th>token</th>\n",
       "      <th>token_freq</th>\n",
       "      <th>freq_bins</th>\n",
       "    </tr>\n",
       "  </thead>\n",
       "  <tbody>\n",
       "    <tr>\n",
       "      <th>0</th>\n",
       "      <td>Reise</td>\n",
       "      <td>1</td>\n",
       "      <td>(0.999, 28.333]</td>\n",
       "    </tr>\n",
       "    <tr>\n",
       "      <th>2</th>\n",
       "      <td>Norden</td>\n",
       "      <td>1</td>\n",
       "      <td>(0.999, 28.333]</td>\n",
       "    </tr>\n",
       "    <tr>\n",
       "      <th>4</th>\n",
       "      <td>Altstimme</td>\n",
       "      <td>1</td>\n",
       "      <td>(0.999, 28.333]</td>\n",
       "    </tr>\n",
       "    <tr>\n",
       "      <th>6</th>\n",
       "      <td>heißen</td>\n",
       "      <td>1</td>\n",
       "      <td>(0.999, 28.333]</td>\n",
       "    </tr>\n",
       "    <tr>\n",
       "      <th>8</th>\n",
       "      <td>Karlchen</td>\n",
       "      <td>1</td>\n",
       "      <td>(0.999, 28.333]</td>\n",
       "    </tr>\n",
       "  </tbody>\n",
       "</table>\n",
       "</div>"
      ],
      "text/plain": [
       "       token  token_freq        freq_bins\n",
       "0      Reise           1  (0.999, 28.333]\n",
       "2     Norden           1  (0.999, 28.333]\n",
       "4  Altstimme           1  (0.999, 28.333]\n",
       "6     heißen           1  (0.999, 28.333]\n",
       "8   Karlchen           1  (0.999, 28.333]"
      ]
     },
     "execution_count": 111,
     "metadata": {},
     "output_type": "execute_result"
    }
   ],
   "source": [
    "bins = np.linspace(min(df[\"token_freq\"]), max(df[\"token_freq\"]), 4)\n",
    "df[\"freq_bins\"] = pd.cut(df[\"token_freq\"], bins, include_lowest=True)\n",
    "df.head()"
   ]
  },
  {
   "cell_type": "code",
   "execution_count": 112,
   "metadata": {},
   "outputs": [
    {
     "data": {
      "application/vnd.plotly.v1+json": {
       "config": {
        "plotlyServerURL": "https://plot.ly"
       },
       "data": [
        {
         "alignmentgroup": "True",
         "bingroup": "x",
         "hovertemplate": "variable=token_freq<br>value=%{x}<br>count=%{y}<extra></extra>",
         "legendgroup": "token_freq",
         "marker": {
          "color": "#636efa",
          "pattern": {
           "shape": ""
          }
         },
         "name": "token_freq",
         "offsetgroup": "token_freq",
         "orientation": "v",
         "showlegend": true,
         "type": "histogram",
         "x": [
          1,
          1,
          1,
          1,
          1,
          1,
          1,
          1,
          1,
          2,
          1,
          1,
          1,
          1,
          1,
          1,
          1,
          1,
          1,
          1,
          1,
          2,
          1,
          1,
          1,
          1,
          1,
          1,
          1,
          1,
          1,
          1,
          1,
          1,
          1,
          1,
          1,
          1,
          1,
          1,
          1,
          1,
          1,
          1,
          1,
          1,
          1,
          1,
          1,
          1,
          1,
          1,
          1,
          1,
          1,
          1,
          1,
          2,
          1,
          1,
          1,
          1,
          1,
          1,
          1,
          1,
          1,
          2,
          1,
          1,
          1,
          1,
          1,
          1,
          1,
          1,
          1,
          1,
          1,
          1,
          1,
          1,
          2,
          1,
          1,
          2,
          1,
          1,
          1,
          1,
          1,
          1,
          1,
          1,
          1,
          1,
          1,
          1,
          1,
          1,
          1,
          1,
          1,
          1,
          3,
          1,
          1,
          2,
          1,
          1,
          1,
          1,
          1,
          1,
          1,
          1,
          1,
          1,
          1,
          1,
          1,
          2,
          1,
          1,
          2,
          1,
          1,
          1,
          1,
          1,
          1,
          2,
          1,
          1,
          2,
          1,
          1,
          1,
          1,
          1,
          1,
          1,
          1,
          1,
          1,
          1,
          1,
          1,
          1,
          1,
          1,
          1,
          3,
          3,
          1,
          1,
          1,
          1,
          1,
          1,
          1,
          1,
          2,
          1,
          2,
          1,
          1,
          1,
          1,
          1,
          1,
          1,
          1,
          2,
          1,
          1,
          3,
          1,
          1,
          2,
          1,
          1,
          2,
          1,
          1,
          1,
          2,
          3,
          1,
          1,
          1,
          3,
          1,
          1,
          1,
          1,
          5,
          3,
          1,
          1,
          1,
          1,
          1,
          1,
          1,
          1,
          1,
          1,
          1,
          2,
          1,
          1,
          7,
          1,
          1,
          1,
          1,
          1,
          1,
          4,
          1,
          1,
          1,
          3,
          4,
          1,
          1,
          1,
          1,
          1,
          1,
          1,
          2,
          1,
          1,
          1,
          1,
          1,
          1,
          1,
          3,
          1,
          1,
          1,
          2,
          1,
          1,
          1,
          1,
          1,
          1,
          1,
          1,
          1,
          1,
          1,
          1,
          1,
          1,
          1,
          1,
          2,
          1,
          2,
          1,
          1,
          1,
          1,
          4,
          1,
          1,
          1,
          1,
          2,
          1,
          1,
          1,
          1,
          1,
          1,
          3,
          2,
          1,
          4,
          1,
          1,
          1,
          1,
          3,
          1,
          1,
          1,
          4,
          1,
          1,
          1,
          1,
          1,
          3,
          1,
          1,
          1,
          2,
          2,
          2,
          1,
          1,
          1,
          1,
          1,
          1,
          1,
          1,
          1,
          1,
          1,
          1,
          1,
          2,
          1,
          1,
          1,
          1,
          1,
          3,
          1,
          1,
          1,
          3,
          7,
          1,
          1,
          1,
          1,
          1,
          1,
          4,
          2,
          2,
          1,
          1,
          2,
          1,
          2,
          3,
          1,
          1,
          1,
          1,
          6,
          1,
          1,
          1,
          1,
          1,
          1,
          2,
          1,
          1,
          1,
          1,
          1,
          1,
          1,
          1,
          2,
          2,
          9,
          4,
          1,
          5,
          5,
          2,
          15,
          1,
          2,
          1,
          4,
          3,
          1,
          2,
          5,
          11,
          2,
          1,
          2,
          1,
          1,
          1,
          1,
          3,
          1,
          1,
          1,
          1,
          1,
          1,
          4,
          2,
          2,
          1,
          1,
          1,
          2,
          1,
          1,
          2,
          1,
          2,
          4,
          1,
          3,
          1,
          1,
          2,
          1,
          1,
          2,
          2,
          1,
          1,
          16,
          2,
          2,
          2,
          1,
          1,
          4,
          3,
          1,
          1,
          6,
          2,
          1,
          2,
          1,
          15,
          1,
          5,
          1,
          1,
          2,
          2,
          1,
          1,
          1,
          5,
          1,
          2,
          1,
          3,
          1,
          1,
          12,
          8,
          14,
          1,
          1,
          15,
          1,
          4,
          1,
          7,
          1,
          1,
          2,
          1,
          4,
          5,
          1,
          1,
          1,
          1,
          20,
          16,
          1,
          1,
          1,
          13,
          23,
          1,
          1,
          1,
          5,
          50,
          22,
          1,
          10,
          1,
          2,
          6,
          2,
          1,
          1,
          1,
          6,
          5,
          4,
          7,
          2,
          2,
          83,
          18,
          1,
          12,
          7,
          2,
          1,
          1,
          10,
          2,
          4,
          3,
          13,
          10,
          16,
          2
         ],
         "xaxis": "x",
         "yaxis": "y"
        }
       ],
       "layout": {
        "barmode": "relative",
        "legend": {
         "title": {
          "text": "variable"
         },
         "tracegroupgap": 0
        },
        "margin": {
         "t": 60
        },
        "template": {
         "data": {
          "bar": [
           {
            "error_x": {
             "color": "#2a3f5f"
            },
            "error_y": {
             "color": "#2a3f5f"
            },
            "marker": {
             "line": {
              "color": "#E5ECF6",
              "width": 0.5
             },
             "pattern": {
              "fillmode": "overlay",
              "size": 10,
              "solidity": 0.2
             }
            },
            "type": "bar"
           }
          ],
          "barpolar": [
           {
            "marker": {
             "line": {
              "color": "#E5ECF6",
              "width": 0.5
             },
             "pattern": {
              "fillmode": "overlay",
              "size": 10,
              "solidity": 0.2
             }
            },
            "type": "barpolar"
           }
          ],
          "carpet": [
           {
            "aaxis": {
             "endlinecolor": "#2a3f5f",
             "gridcolor": "white",
             "linecolor": "white",
             "minorgridcolor": "white",
             "startlinecolor": "#2a3f5f"
            },
            "baxis": {
             "endlinecolor": "#2a3f5f",
             "gridcolor": "white",
             "linecolor": "white",
             "minorgridcolor": "white",
             "startlinecolor": "#2a3f5f"
            },
            "type": "carpet"
           }
          ],
          "choropleth": [
           {
            "colorbar": {
             "outlinewidth": 0,
             "ticks": ""
            },
            "type": "choropleth"
           }
          ],
          "contour": [
           {
            "colorbar": {
             "outlinewidth": 0,
             "ticks": ""
            },
            "colorscale": [
             [
              0,
              "#0d0887"
             ],
             [
              0.1111111111111111,
              "#46039f"
             ],
             [
              0.2222222222222222,
              "#7201a8"
             ],
             [
              0.3333333333333333,
              "#9c179e"
             ],
             [
              0.4444444444444444,
              "#bd3786"
             ],
             [
              0.5555555555555556,
              "#d8576b"
             ],
             [
              0.6666666666666666,
              "#ed7953"
             ],
             [
              0.7777777777777778,
              "#fb9f3a"
             ],
             [
              0.8888888888888888,
              "#fdca26"
             ],
             [
              1,
              "#f0f921"
             ]
            ],
            "type": "contour"
           }
          ],
          "contourcarpet": [
           {
            "colorbar": {
             "outlinewidth": 0,
             "ticks": ""
            },
            "type": "contourcarpet"
           }
          ],
          "heatmap": [
           {
            "colorbar": {
             "outlinewidth": 0,
             "ticks": ""
            },
            "colorscale": [
             [
              0,
              "#0d0887"
             ],
             [
              0.1111111111111111,
              "#46039f"
             ],
             [
              0.2222222222222222,
              "#7201a8"
             ],
             [
              0.3333333333333333,
              "#9c179e"
             ],
             [
              0.4444444444444444,
              "#bd3786"
             ],
             [
              0.5555555555555556,
              "#d8576b"
             ],
             [
              0.6666666666666666,
              "#ed7953"
             ],
             [
              0.7777777777777778,
              "#fb9f3a"
             ],
             [
              0.8888888888888888,
              "#fdca26"
             ],
             [
              1,
              "#f0f921"
             ]
            ],
            "type": "heatmap"
           }
          ],
          "heatmapgl": [
           {
            "colorbar": {
             "outlinewidth": 0,
             "ticks": ""
            },
            "colorscale": [
             [
              0,
              "#0d0887"
             ],
             [
              0.1111111111111111,
              "#46039f"
             ],
             [
              0.2222222222222222,
              "#7201a8"
             ],
             [
              0.3333333333333333,
              "#9c179e"
             ],
             [
              0.4444444444444444,
              "#bd3786"
             ],
             [
              0.5555555555555556,
              "#d8576b"
             ],
             [
              0.6666666666666666,
              "#ed7953"
             ],
             [
              0.7777777777777778,
              "#fb9f3a"
             ],
             [
              0.8888888888888888,
              "#fdca26"
             ],
             [
              1,
              "#f0f921"
             ]
            ],
            "type": "heatmapgl"
           }
          ],
          "histogram": [
           {
            "marker": {
             "pattern": {
              "fillmode": "overlay",
              "size": 10,
              "solidity": 0.2
             }
            },
            "type": "histogram"
           }
          ],
          "histogram2d": [
           {
            "colorbar": {
             "outlinewidth": 0,
             "ticks": ""
            },
            "colorscale": [
             [
              0,
              "#0d0887"
             ],
             [
              0.1111111111111111,
              "#46039f"
             ],
             [
              0.2222222222222222,
              "#7201a8"
             ],
             [
              0.3333333333333333,
              "#9c179e"
             ],
             [
              0.4444444444444444,
              "#bd3786"
             ],
             [
              0.5555555555555556,
              "#d8576b"
             ],
             [
              0.6666666666666666,
              "#ed7953"
             ],
             [
              0.7777777777777778,
              "#fb9f3a"
             ],
             [
              0.8888888888888888,
              "#fdca26"
             ],
             [
              1,
              "#f0f921"
             ]
            ],
            "type": "histogram2d"
           }
          ],
          "histogram2dcontour": [
           {
            "colorbar": {
             "outlinewidth": 0,
             "ticks": ""
            },
            "colorscale": [
             [
              0,
              "#0d0887"
             ],
             [
              0.1111111111111111,
              "#46039f"
             ],
             [
              0.2222222222222222,
              "#7201a8"
             ],
             [
              0.3333333333333333,
              "#9c179e"
             ],
             [
              0.4444444444444444,
              "#bd3786"
             ],
             [
              0.5555555555555556,
              "#d8576b"
             ],
             [
              0.6666666666666666,
              "#ed7953"
             ],
             [
              0.7777777777777778,
              "#fb9f3a"
             ],
             [
              0.8888888888888888,
              "#fdca26"
             ],
             [
              1,
              "#f0f921"
             ]
            ],
            "type": "histogram2dcontour"
           }
          ],
          "mesh3d": [
           {
            "colorbar": {
             "outlinewidth": 0,
             "ticks": ""
            },
            "type": "mesh3d"
           }
          ],
          "parcoords": [
           {
            "line": {
             "colorbar": {
              "outlinewidth": 0,
              "ticks": ""
             }
            },
            "type": "parcoords"
           }
          ],
          "pie": [
           {
            "automargin": true,
            "type": "pie"
           }
          ],
          "scatter": [
           {
            "fillpattern": {
             "fillmode": "overlay",
             "size": 10,
             "solidity": 0.2
            },
            "type": "scatter"
           }
          ],
          "scatter3d": [
           {
            "line": {
             "colorbar": {
              "outlinewidth": 0,
              "ticks": ""
             }
            },
            "marker": {
             "colorbar": {
              "outlinewidth": 0,
              "ticks": ""
             }
            },
            "type": "scatter3d"
           }
          ],
          "scattercarpet": [
           {
            "marker": {
             "colorbar": {
              "outlinewidth": 0,
              "ticks": ""
             }
            },
            "type": "scattercarpet"
           }
          ],
          "scattergeo": [
           {
            "marker": {
             "colorbar": {
              "outlinewidth": 0,
              "ticks": ""
             }
            },
            "type": "scattergeo"
           }
          ],
          "scattergl": [
           {
            "marker": {
             "colorbar": {
              "outlinewidth": 0,
              "ticks": ""
             }
            },
            "type": "scattergl"
           }
          ],
          "scattermapbox": [
           {
            "marker": {
             "colorbar": {
              "outlinewidth": 0,
              "ticks": ""
             }
            },
            "type": "scattermapbox"
           }
          ],
          "scatterpolar": [
           {
            "marker": {
             "colorbar": {
              "outlinewidth": 0,
              "ticks": ""
             }
            },
            "type": "scatterpolar"
           }
          ],
          "scatterpolargl": [
           {
            "marker": {
             "colorbar": {
              "outlinewidth": 0,
              "ticks": ""
             }
            },
            "type": "scatterpolargl"
           }
          ],
          "scatterternary": [
           {
            "marker": {
             "colorbar": {
              "outlinewidth": 0,
              "ticks": ""
             }
            },
            "type": "scatterternary"
           }
          ],
          "surface": [
           {
            "colorbar": {
             "outlinewidth": 0,
             "ticks": ""
            },
            "colorscale": [
             [
              0,
              "#0d0887"
             ],
             [
              0.1111111111111111,
              "#46039f"
             ],
             [
              0.2222222222222222,
              "#7201a8"
             ],
             [
              0.3333333333333333,
              "#9c179e"
             ],
             [
              0.4444444444444444,
              "#bd3786"
             ],
             [
              0.5555555555555556,
              "#d8576b"
             ],
             [
              0.6666666666666666,
              "#ed7953"
             ],
             [
              0.7777777777777778,
              "#fb9f3a"
             ],
             [
              0.8888888888888888,
              "#fdca26"
             ],
             [
              1,
              "#f0f921"
             ]
            ],
            "type": "surface"
           }
          ],
          "table": [
           {
            "cells": {
             "fill": {
              "color": "#EBF0F8"
             },
             "line": {
              "color": "white"
             }
            },
            "header": {
             "fill": {
              "color": "#C8D4E3"
             },
             "line": {
              "color": "white"
             }
            },
            "type": "table"
           }
          ]
         },
         "layout": {
          "annotationdefaults": {
           "arrowcolor": "#2a3f5f",
           "arrowhead": 0,
           "arrowwidth": 1
          },
          "autotypenumbers": "strict",
          "coloraxis": {
           "colorbar": {
            "outlinewidth": 0,
            "ticks": ""
           }
          },
          "colorscale": {
           "diverging": [
            [
             0,
             "#8e0152"
            ],
            [
             0.1,
             "#c51b7d"
            ],
            [
             0.2,
             "#de77ae"
            ],
            [
             0.3,
             "#f1b6da"
            ],
            [
             0.4,
             "#fde0ef"
            ],
            [
             0.5,
             "#f7f7f7"
            ],
            [
             0.6,
             "#e6f5d0"
            ],
            [
             0.7,
             "#b8e186"
            ],
            [
             0.8,
             "#7fbc41"
            ],
            [
             0.9,
             "#4d9221"
            ],
            [
             1,
             "#276419"
            ]
           ],
           "sequential": [
            [
             0,
             "#0d0887"
            ],
            [
             0.1111111111111111,
             "#46039f"
            ],
            [
             0.2222222222222222,
             "#7201a8"
            ],
            [
             0.3333333333333333,
             "#9c179e"
            ],
            [
             0.4444444444444444,
             "#bd3786"
            ],
            [
             0.5555555555555556,
             "#d8576b"
            ],
            [
             0.6666666666666666,
             "#ed7953"
            ],
            [
             0.7777777777777778,
             "#fb9f3a"
            ],
            [
             0.8888888888888888,
             "#fdca26"
            ],
            [
             1,
             "#f0f921"
            ]
           ],
           "sequentialminus": [
            [
             0,
             "#0d0887"
            ],
            [
             0.1111111111111111,
             "#46039f"
            ],
            [
             0.2222222222222222,
             "#7201a8"
            ],
            [
             0.3333333333333333,
             "#9c179e"
            ],
            [
             0.4444444444444444,
             "#bd3786"
            ],
            [
             0.5555555555555556,
             "#d8576b"
            ],
            [
             0.6666666666666666,
             "#ed7953"
            ],
            [
             0.7777777777777778,
             "#fb9f3a"
            ],
            [
             0.8888888888888888,
             "#fdca26"
            ],
            [
             1,
             "#f0f921"
            ]
           ]
          },
          "colorway": [
           "#636efa",
           "#EF553B",
           "#00cc96",
           "#ab63fa",
           "#FFA15A",
           "#19d3f3",
           "#FF6692",
           "#B6E880",
           "#FF97FF",
           "#FECB52"
          ],
          "font": {
           "color": "#2a3f5f"
          },
          "geo": {
           "bgcolor": "white",
           "lakecolor": "white",
           "landcolor": "#E5ECF6",
           "showlakes": true,
           "showland": true,
           "subunitcolor": "white"
          },
          "hoverlabel": {
           "align": "left"
          },
          "hovermode": "closest",
          "mapbox": {
           "style": "light"
          },
          "paper_bgcolor": "white",
          "plot_bgcolor": "#E5ECF6",
          "polar": {
           "angularaxis": {
            "gridcolor": "white",
            "linecolor": "white",
            "ticks": ""
           },
           "bgcolor": "#E5ECF6",
           "radialaxis": {
            "gridcolor": "white",
            "linecolor": "white",
            "ticks": ""
           }
          },
          "scene": {
           "xaxis": {
            "backgroundcolor": "#E5ECF6",
            "gridcolor": "white",
            "gridwidth": 2,
            "linecolor": "white",
            "showbackground": true,
            "ticks": "",
            "zerolinecolor": "white"
           },
           "yaxis": {
            "backgroundcolor": "#E5ECF6",
            "gridcolor": "white",
            "gridwidth": 2,
            "linecolor": "white",
            "showbackground": true,
            "ticks": "",
            "zerolinecolor": "white"
           },
           "zaxis": {
            "backgroundcolor": "#E5ECF6",
            "gridcolor": "white",
            "gridwidth": 2,
            "linecolor": "white",
            "showbackground": true,
            "ticks": "",
            "zerolinecolor": "white"
           }
          },
          "shapedefaults": {
           "line": {
            "color": "#2a3f5f"
           }
          },
          "ternary": {
           "aaxis": {
            "gridcolor": "white",
            "linecolor": "white",
            "ticks": ""
           },
           "baxis": {
            "gridcolor": "white",
            "linecolor": "white",
            "ticks": ""
           },
           "bgcolor": "#E5ECF6",
           "caxis": {
            "gridcolor": "white",
            "linecolor": "white",
            "ticks": ""
           }
          },
          "title": {
           "x": 0.05
          },
          "xaxis": {
           "automargin": true,
           "gridcolor": "white",
           "linecolor": "white",
           "ticks": "",
           "title": {
            "standoff": 15
           },
           "zerolinecolor": "white",
           "zerolinewidth": 2
          },
          "yaxis": {
           "automargin": true,
           "gridcolor": "white",
           "linecolor": "white",
           "ticks": "",
           "title": {
            "standoff": 15
           },
           "zerolinecolor": "white",
           "zerolinewidth": 2
          }
         }
        },
        "xaxis": {
         "anchor": "y",
         "categoryorder": "mean descending",
         "domain": [
          0,
          1
         ],
         "title": {
          "text": "value"
         }
        },
        "yaxis": {
         "anchor": "x",
         "domain": [
          0,
          1
         ],
         "title": {
          "text": "count"
         }
        }
       }
      }
     },
     "metadata": {},
     "output_type": "display_data"
    }
   ],
   "source": [
    "fig = px.histogram(df[\"token_freq\"])\n",
    "fig.update_xaxes(categoryorder=\"mean descending\")"
   ]
  },
  {
   "cell_type": "code",
   "execution_count": 113,
   "metadata": {},
   "outputs": [
    {
     "data": {
      "text/plain": [
       "928.8000000000001"
      ]
     },
     "execution_count": 113,
     "metadata": {},
     "output_type": "execute_result"
    }
   ],
   "source": [
    "df.index.max() * 0.8"
   ]
  },
  {
   "cell_type": "code",
   "execution_count": 114,
   "metadata": {},
   "outputs": [
    {
     "data": {
      "text/html": [
       "<div>\n",
       "<style scoped>\n",
       "    .dataframe tbody tr th:only-of-type {\n",
       "        vertical-align: middle;\n",
       "    }\n",
       "\n",
       "    .dataframe tbody tr th {\n",
       "        vertical-align: top;\n",
       "    }\n",
       "\n",
       "    .dataframe thead th {\n",
       "        text-align: right;\n",
       "    }\n",
       "</style>\n",
       "<table border=\"1\" class=\"dataframe\">\n",
       "  <thead>\n",
       "    <tr style=\"text-align: right;\">\n",
       "      <th></th>\n",
       "      <th>token</th>\n",
       "      <th>token_freq</th>\n",
       "      <th>freq_bins</th>\n",
       "    </tr>\n",
       "  </thead>\n",
       "  <tbody>\n",
       "    <tr>\n",
       "      <th>0</th>\n",
       "      <td>und</td>\n",
       "      <td>83</td>\n",
       "      <td>(55.667, 83.0]</td>\n",
       "    </tr>\n",
       "    <tr>\n",
       "      <th>1</th>\n",
       "      <td>sein</td>\n",
       "      <td>50</td>\n",
       "      <td>(28.333, 55.667]</td>\n",
       "    </tr>\n",
       "    <tr>\n",
       "      <th>2</th>\n",
       "      <td>haben</td>\n",
       "      <td>23</td>\n",
       "      <td>(0.999, 28.333]</td>\n",
       "    </tr>\n",
       "    <tr>\n",
       "      <th>3</th>\n",
       "      <td>in</td>\n",
       "      <td>22</td>\n",
       "      <td>(0.999, 28.333]</td>\n",
       "    </tr>\n",
       "    <tr>\n",
       "      <th>4</th>\n",
       "      <td>sagen</td>\n",
       "      <td>20</td>\n",
       "      <td>(0.999, 28.333]</td>\n",
       "    </tr>\n",
       "    <tr>\n",
       "      <th>5</th>\n",
       "      <td>dann</td>\n",
       "      <td>18</td>\n",
       "      <td>(0.999, 28.333]</td>\n",
       "    </tr>\n",
       "    <tr>\n",
       "      <th>6</th>\n",
       "      <td>sehen</td>\n",
       "      <td>16</td>\n",
       "      <td>(0.999, 28.333]</td>\n",
       "    </tr>\n",
       "    <tr>\n",
       "      <th>7</th>\n",
       "      <td>Prinzessin</td>\n",
       "      <td>16</td>\n",
       "      <td>(0.999, 28.333]</td>\n",
       "    </tr>\n",
       "    <tr>\n",
       "      <th>8</th>\n",
       "      <td>nicht</td>\n",
       "      <td>16</td>\n",
       "      <td>(0.999, 28.333]</td>\n",
       "    </tr>\n",
       "    <tr>\n",
       "      <th>9</th>\n",
       "      <td>auf</td>\n",
       "      <td>15</td>\n",
       "      <td>(0.999, 28.333]</td>\n",
       "    </tr>\n",
       "    <tr>\n",
       "      <th>10</th>\n",
       "      <td>zu</td>\n",
       "      <td>15</td>\n",
       "      <td>(0.999, 28.333]</td>\n",
       "    </tr>\n",
       "    <tr>\n",
       "      <th>11</th>\n",
       "      <td>da</td>\n",
       "      <td>15</td>\n",
       "      <td>(0.999, 28.333]</td>\n",
       "    </tr>\n",
       "    <tr>\n",
       "      <th>12</th>\n",
       "      <td>wie</td>\n",
       "      <td>14</td>\n",
       "      <td>(0.999, 28.333]</td>\n",
       "    </tr>\n",
       "    <tr>\n",
       "      <th>13</th>\n",
       "      <td>aber</td>\n",
       "      <td>13</td>\n",
       "      <td>(0.999, 28.333]</td>\n",
       "    </tr>\n",
       "    <tr>\n",
       "      <th>14</th>\n",
       "      <td>an</td>\n",
       "      <td>13</td>\n",
       "      <td>(0.999, 28.333]</td>\n",
       "    </tr>\n",
       "    <tr>\n",
       "      <th>15</th>\n",
       "      <td>so</td>\n",
       "      <td>12</td>\n",
       "      <td>(0.999, 28.333]</td>\n",
       "    </tr>\n",
       "    <tr>\n",
       "      <th>16</th>\n",
       "      <td>von</td>\n",
       "      <td>12</td>\n",
       "      <td>(0.999, 28.333]</td>\n",
       "    </tr>\n",
       "    <tr>\n",
       "      <th>17</th>\n",
       "      <td>wenn</td>\n",
       "      <td>11</td>\n",
       "      <td>(0.999, 28.333]</td>\n",
       "    </tr>\n",
       "    <tr>\n",
       "      <th>18</th>\n",
       "      <td>sprechen</td>\n",
       "      <td>10</td>\n",
       "      <td>(0.999, 28.333]</td>\n",
       "    </tr>\n",
       "    <tr>\n",
       "      <th>19</th>\n",
       "      <td>mit</td>\n",
       "      <td>10</td>\n",
       "      <td>(0.999, 28.333]</td>\n",
       "    </tr>\n",
       "    <tr>\n",
       "      <th>20</th>\n",
       "      <td>werden</td>\n",
       "      <td>10</td>\n",
       "      <td>(0.999, 28.333]</td>\n",
       "    </tr>\n",
       "    <tr>\n",
       "      <th>21</th>\n",
       "      <td>nach</td>\n",
       "      <td>9</td>\n",
       "      <td>(0.999, 28.333]</td>\n",
       "    </tr>\n",
       "    <tr>\n",
       "      <th>22</th>\n",
       "      <td>Frau</td>\n",
       "      <td>8</td>\n",
       "      <td>(0.999, 28.333]</td>\n",
       "    </tr>\n",
       "    <tr>\n",
       "      <th>23</th>\n",
       "      <td>Lydia</td>\n",
       "      <td>7</td>\n",
       "      <td>(0.999, 28.333]</td>\n",
       "    </tr>\n",
       "    <tr>\n",
       "      <th>24</th>\n",
       "      <td>Sprache</td>\n",
       "      <td>7</td>\n",
       "      <td>(0.999, 28.333]</td>\n",
       "    </tr>\n",
       "  </tbody>\n",
       "</table>\n",
       "</div>"
      ],
      "text/plain": [
       "         token  token_freq         freq_bins\n",
       "0          und          83    (55.667, 83.0]\n",
       "1         sein          50  (28.333, 55.667]\n",
       "2        haben          23   (0.999, 28.333]\n",
       "3           in          22   (0.999, 28.333]\n",
       "4        sagen          20   (0.999, 28.333]\n",
       "5         dann          18   (0.999, 28.333]\n",
       "6        sehen          16   (0.999, 28.333]\n",
       "7   Prinzessin          16   (0.999, 28.333]\n",
       "8        nicht          16   (0.999, 28.333]\n",
       "9          auf          15   (0.999, 28.333]\n",
       "10          zu          15   (0.999, 28.333]\n",
       "11          da          15   (0.999, 28.333]\n",
       "12         wie          14   (0.999, 28.333]\n",
       "13        aber          13   (0.999, 28.333]\n",
       "14          an          13   (0.999, 28.333]\n",
       "15          so          12   (0.999, 28.333]\n",
       "16         von          12   (0.999, 28.333]\n",
       "17        wenn          11   (0.999, 28.333]\n",
       "18    sprechen          10   (0.999, 28.333]\n",
       "19         mit          10   (0.999, 28.333]\n",
       "20      werden          10   (0.999, 28.333]\n",
       "21        nach           9   (0.999, 28.333]\n",
       "22        Frau           8   (0.999, 28.333]\n",
       "23       Lydia           7   (0.999, 28.333]\n",
       "24     Sprache           7   (0.999, 28.333]"
      ]
     },
     "execution_count": 114,
     "metadata": {},
     "output_type": "execute_result"
    }
   ],
   "source": [
    "df.sort_values(by=[\"token_freq\"], ascending=False, inplace=True)\n",
    "df = df.reset_index(drop=True)\n",
    "df.head(25)"
   ]
  },
  {
   "cell_type": "code",
   "execution_count": 115,
   "metadata": {},
   "outputs": [
    {
     "name": "stdout",
     "output_type": "stream",
     "text": [
      "und\n",
      "sein\n",
      "haben\n",
      "in\n",
      "sagen\n",
      "dann\n",
      "sehen\n",
      "Prinzessin\n",
      "nicht\n",
      "auf\n",
      "zu\n",
      "da\n",
      "wie\n",
      "aber\n",
      "an\n",
      "so\n",
      "von\n",
      "wenn\n",
      "sprechen\n",
      "mit\n",
      "werden\n",
      "nach\n",
      "Frau\n",
      "Lydia\n",
      "Sprache\n",
      "können\n",
      "ja\n",
      "schön\n",
      "aus\n",
      "bei\n",
      "als\n",
      "Mann\n",
      "nur\n",
      "nun\n",
      "Platt\n",
      "noch\n",
      "gut\n",
      "fahren\n",
      "schon\n",
      "Schweden\n",
      "doch\n",
      "gehen\n",
      "schwedisch\n",
      "Leute\n",
      "fragen\n",
      "sitzen\n",
      "Fähr\n",
      "dass\n",
      "auch\n",
      "also\n",
      "machen\n",
      "wohnen\n",
      "wieder\n",
      "wo\n",
      "gar\n",
      "immer\n",
      "ganz\n",
      "stehen\n",
      "finden\n",
      "hier\n",
      "erst\n",
      "wissen\n",
      "für\n",
      "neue\n",
      "Kopenhagen\n",
      "lange\n",
      "Missingsch\n",
      "liegen\n",
      "halten\n",
      "sehr\n",
      "Zeit\n",
      "oder\n",
      "Hand\n",
      "Wort\n",
      "nie\n",
      "vor\n",
      "einmal\n",
      "Heringe\n",
      "mal\n",
      "denn\n",
      "Religion\n",
      "Däne\n",
      "Deutsch\n",
      "verstehn\n",
      "helfen\n",
      "deutsch\n",
      "grob\n",
      "zwei\n",
      "Generalkonsul\n",
      "bissch\n",
      "Hochdeutsch\n",
      "kommen\n",
      "ob\n",
      "Geld\n",
      "tief\n",
      "Urlaub\n",
      "Satz\n",
      "endlich\n",
      "komisch\n",
      "fein\n",
      "zehn\n",
      "Liebe\n",
      "nennen\n",
      "viel\n",
      "gehören\n",
      "Augenblick\n",
      "Abendessen\n",
      "dabei\n",
      "wussen\n",
      "Helsingör\n",
      "schnell\n",
      "gessen\n",
      "flach\n",
      "eigentlich\n",
      "Zug\n",
      "hinten\n",
      "weiter\n",
      "über\n",
      "schlief\n",
      "verstehen\n",
      "manchmal\n",
      "wohl\n",
      "fremd\n",
      "Seite\n",
      "Meer\n",
      "denken\n",
      "fest\n",
      "Gegend\n",
      "dänisch\n",
      "warum\n",
      "Warnemünde\n",
      "Peter\n",
      "wollen\n",
      "Küste\n",
      "riechen\n",
      "Hotel\n",
      "Haus\n",
      "klein\n",
      "heraus\n",
      "Gelegenheit\n",
      "rein\n",
      "Buch\n",
      "freundlich\n",
      "Spanier\n",
      "Besoffener\n",
      "streichelen\n",
      "Thorwaldsen-Museum\n",
      "Mal\n",
      "Rathaus\n",
      "vorig\n",
      "Wärme\n",
      "Neid\"-\n",
      "murmeln\n",
      "Küche\n",
      "rollen\n",
      "nahrhaft\n",
      "komponiert\n",
      "muss\n",
      "Tivolipark\n",
      "außerdem\n",
      "aussehen\n",
      "Rathausuhr\n",
      "Piano\n",
      "fügen\n",
      "erinnern\n",
      "tasten\n",
      "mehr\n",
      "klingeln\n",
      "Vergänglichkeit\n",
      "fort\n",
      "vorn\n",
      "Rathausplatz\n",
      "täglich\n",
      "Fenster\n",
      "Uhr\n",
      "klingelen\n",
      "Gang\n",
      "picken\n",
      "Teller\n",
      "herum\n",
      "lang\n",
      "zuverlässig\n",
      "um\n",
      "Täschchen\n",
      "bewundernd\n",
      "blättern\n",
      "ineinander\n",
      "Stunde\n",
      "warm\n",
      "Viertelstund\n",
      "frisst\n",
      "hinaus\n",
      "gefallen\n",
      "Gips\n",
      "Logik\n",
      "träumerisch\n",
      "Hast\n",
      "gefressen\n",
      "Beefsteak\n",
      "Wunsch\n",
      "unterdrückend\n",
      "Treue\n",
      "Aussehen\n",
      "Gespräch\n",
      "Stadt\n",
      "klug\n",
      "Charme\n",
      "dünn\n",
      "verlernen\n",
      "Brille\n",
      "tauchen\n",
      "weit\n",
      "erobern\n",
      "Krone\n",
      "hübsch\n",
      "deshalb\n",
      "vorsichtig\n",
      "furchtbar\n",
      "protzen\n",
      "singen\n",
      "federleichen\n",
      "klingen\n",
      "hauchen\n",
      "anders\n",
      "Schwede\n",
      "herumgerechnen\n",
      "Monat\n",
      "sechs\n",
      "Reisekasse\n",
      "gemeinsam\n",
      "besitzen\n",
      "Geizvettel\n",
      " \n",
      "ausgeben\n",
      "mussen\n",
      "verlieben\n",
      "nähern\n",
      "as\n",
      "hängen\n",
      "Englisch\n",
      "Schwedisch\n",
      "Sprichst\n",
      "warst\n",
      "Abfahrt\n",
      "Baum\n",
      "alt\n",
      "hoch\n",
      "herumlaufen\n",
      "Hirsch\n",
      "zahmer\n",
      "wild\n",
      "König\n",
      "Tiergarten\n",
      "groß\n",
      "Straße\n",
      "Endung\n",
      "Sprecha\n",
      "Zurückblieb\n",
      "verstehas\n",
      "blicken\n",
      "Luft\n",
      "atmeen\n",
      "Schiffsgeländer\n",
      "oben\n",
      "steigen\n",
      "hoffentlich\n",
      "erleben\n",
      "sollen\n",
      "meinsen\n",
      "erlebas\n",
      "auf.,Ja\n",
      "Sprachschatz\n",
      "gleich\n",
      "nehmen\n",
      "Ungemein\n",
      "lesen\n",
      "abwechselnd\n",
      "Reise\n",
      "Bücherspiel\n",
      "Mark\n",
      "reinigen\n",
      "aufräumen\n",
      "Landschaft\n",
      "frisch\n",
      "recht\n",
      "Junitag\n",
      "windig\n",
      "Heller\n",
      "Gott\n",
      "einigen\n",
      "findest\n",
      "Brandenburg\n",
      "vorläufig\n",
      "Sommer\n",
      "Abteil\n",
      "allein\n",
      "Bahnhof\n",
      "anfangen\n",
      "Geschichte\n",
      "bessern\n",
      "Auto\n",
      "pünktlich\n",
      "Bewegung\n",
      "ruhig\n",
      "Chauffeur\n",
      "sich\n",
      "warten\n",
      "karg\n",
      "verschlafen\n",
      "ergründen\n",
      "plattdeutsch\n",
      "erscheinen\n",
      "Stimme\n",
      "ein\n",
      "lächelnd\n",
      "Dummer\n",
      "bitten\n",
      "Sag\n",
      "Aufschrak\n",
      "wecken\n",
      "nachts\n",
      "Altstimm\n",
      "Freund\n",
      "denkelten\n",
      "Mutter\n",
      "Oper\n",
      "Geliebte\n",
      "anhalten\n",
      "wirklich\n",
      "neben\n",
      "Lüge\n",
      "pfundsdick\n",
      "zujeder\n",
      "geliebt\n",
      "behaupten\n",
      "hin\n",
      "Hass\n",
      "nich\n",
      "lieben\n",
      "führen\n",
      "Büro\n",
      "abfahren\n",
      "Abend\n",
      "gestern\n",
      "Abbazia\n",
      "gewähren\n",
      "Woche\n",
      "fünf\n",
      "Seifen\n",
      "ansonsten\n",
      "handeln\n",
      "Titel\n",
      "scheußlich\n",
      "Stellvertreterin\n",
      "gesehn\n",
      "Patron\n",
      "dick\n",
      "unförmig\n",
      "Sekretärin\n",
      "dürfen\n",
      "tun\n",
      "dreien\n",
      "Jakopp\n",
      "Karlchen\n",
      "heißen\n",
      "Altstimme\n",
      "Schwager\n",
      "Koffer\n",
      "dasse\n",
      "perfekt\n",
      "wunnern\n",
      "gienug\n",
      "gahnich\n",
      "Spaß\n",
      "zupackend\n",
      "treiben\n",
      "toll\n",
      "Spott\n",
      "gutmütig\n",
      "norddeutsche\n",
      "Humor\n",
      "bäurisch\n",
      "Idiom\n",
      "Hallo\n",
      "beherrschten\n",
      "Rostock\n",
      "stammen\n",
      "Plattdeutscher\n",
      "herauskommen\n",
      "missingsch\n",
      "Ostchinesisch\n",
      "Taxichauffeur\n",
      "Verwunderung\n",
      "grenzenlos\n",
      "do\n",
      "bischa\n",
      "mögen\n",
      "Vater\n",
      "spielen\n",
      "schieben\n",
      "vorbei\n",
      "Land\n",
      "lösen\n",
      "unmerklich\n",
      "zurück\n",
      "bleiben\n",
      "Maschine\n",
      "arbeiten\n",
      "leise\n",
      "Steuerbord\n",
      "Backbord\n",
      "Schiffsläng\n",
      "na\n",
      "Deutschland\n"
     ]
    }
   ],
   "source": [
    "i = 0\n",
    "while i <= round(df.index.max()*0.8):\n",
    "    print(df.at[i, \"token\"])\n",
    "    i += 1"
   ]
  },
  {
   "cell_type": "code",
   "execution_count": null,
   "metadata": {},
   "outputs": [],
   "source": []
  }
 ],
 "metadata": {
  "kernelspec": {
   "display_name": ".venv",
   "language": "python",
   "name": "python3"
  },
  "language_info": {
   "codemirror_mode": {
    "name": "ipython",
    "version": 3
   },
   "file_extension": ".py",
   "mimetype": "text/x-python",
   "name": "python",
   "nbconvert_exporter": "python",
   "pygments_lexer": "ipython3",
   "version": "3.11.1"
  }
 },
 "nbformat": 4,
 "nbformat_minor": 2
}
